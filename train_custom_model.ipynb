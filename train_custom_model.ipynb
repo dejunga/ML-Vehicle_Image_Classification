{
  "nbformat": 4,
  "nbformat_minor": 0,
  "metadata": {
    "colab": {
      "provenance": [],
      "gpuType": "T4",
      "authorship_tag": "ABX9TyPfq+9md61nbW5DjAmsHVq4",
      "include_colab_link": true
    },
    "kernelspec": {
      "name": "python3",
      "display_name": "Python 3"
    },
    "language_info": {
      "name": "python"
    },
    "accelerator": "GPU"
  },
  "cells": [
    {
      "cell_type": "markdown",
      "metadata": {
        "id": "view-in-github",
        "colab_type": "text"
      },
      "source": [
        "<a href=\"https://colab.research.google.com/github/dejunga/ML-Vehicle_Image_Classification/blob/main/train_custom_model.ipynb\" target=\"_parent\"><img src=\"https://colab.research.google.com/assets/colab-badge.svg\" alt=\"Open In Colab\"/></a>"
      ]
    },
    {
      "cell_type": "code",
      "execution_count": null,
      "metadata": {
        "colab": {
          "base_uri": "https://localhost:8080/"
        },
        "id": "eDAofhrYdaWM",
        "outputId": "6810abfc-4fde-45c5-8cec-ff2b6401aa81"
      },
      "outputs": [
        {
          "output_type": "stream",
          "name": "stdout",
          "text": [
            "Mounted at /content/drive\n",
            "Found 3911 images belonging to 7 classes.\n",
            "Found 838 images belonging to 7 classes.\n",
            "Epoch 1/10\n"
          ]
        }
      ],
      "source": [
        "import os\n",
        "import shutil\n",
        "from sklearn.model_selection import train_test_split\n",
        "from tensorflow.keras.models import Sequential\n",
        "from tensorflow.keras.layers import Conv2D, MaxPooling2D, Flatten, Dense, Dropout, BatchNormalization\n",
        "from tensorflow.keras.preprocessing.image import ImageDataGenerator\n",
        "from tensorflow.keras.callbacks import EarlyStopping, ReduceLROnPlateau\n",
        "from tensorflow.keras.optimizers import Adam\n",
        "import pickle\n",
        "\n",
        "from google.colab import drive\n",
        "drive.mount('/content/drive')\n",
        "\n",
        "# Set up directories for training data\n",
        "main_dir = \"/content/drive/My Drive/Vehicles\"\n",
        "categories = [\"Auto Rickshaws\", \"Bikes\", \"Cars\", \"Motorcycles\", \"Planes\", \"Ships\", \"Trains\"]\n",
        "base_split_dir = \"/content/drive/My Drive/vehicles_split\"\n",
        "\n",
        "# Custom neural network model with Batch Normalization and enhanced architecture\n",
        "model = Sequential()\n",
        "\n",
        "# First convolutional layer (smaller filter size) + Batch Normalization\n",
        "model.add(Conv2D(64, (3, 3), activation='relu', input_shape=(150, 150, 3)))\n",
        "model.add(BatchNormalization())\n",
        "model.add(MaxPooling2D((2, 2)))\n",
        "\n",
        "# Second convolutional layer + Batch Normalization\n",
        "model.add(Conv2D(128, (3, 3), activation='relu'))\n",
        "model.add(BatchNormalization())\n",
        "model.add(MaxPooling2D((2, 2)))\n",
        "\n",
        "# Third convolutional layer + Batch Normalization\n",
        "model.add(Conv2D(256, (3, 3), activation='relu'))\n",
        "model.add(BatchNormalization())\n",
        "model.add(MaxPooling2D((2, 2)))\n",
        "\n",
        "# Flattening the output for fully connected layers\n",
        "model.add(Flatten())\n",
        "\n",
        "# Fully connected layer with fewer neurons + Dropout\n",
        "model.add(Dense(256, activation='relu'))\n",
        "model.add(Dropout(0.25))\n",
        "\n",
        "# Output layer for classification\n",
        "model.add(Dense(len(categories), activation='softmax'))\n",
        "\n",
        "# Compile the model using Adam optimizer with a reduced learning rate\n",
        "optimizer = Adam(learning_rate=1e-4)  # You can experiment with different learning rates\n",
        "model.compile(optimizer=optimizer, loss='categorical_crossentropy', metrics=['accuracy'])\n",
        "\n",
        "# Create data generators with additional augmentations\n",
        "train_datagen = ImageDataGenerator(\n",
        "    rescale=1./255,\n",
        "    rotation_range=30,\n",
        "    width_shift_range=0.2,\n",
        "    height_shift_range=0.2,\n",
        "    shear_range=0.2,\n",
        "    zoom_range=0.3,  # Increased zoom augmentation\n",
        "    horizontal_flip=True,\n",
        "    fill_mode='nearest'  # Filling in missing pixels after augmentation\n",
        ")\n",
        "\n",
        "val_test_datagen = ImageDataGenerator(rescale=1./255)\n",
        "\n",
        "# Ensure the directories exist before creating generators\n",
        "train_generator = train_datagen.flow_from_directory(os.path.join(base_split_dir, \"train\"),\n",
        "                                                    target_size=(150, 150), batch_size=32, class_mode='categorical')\n",
        "val_generator = val_test_datagen.flow_from_directory(os.path.join(base_split_dir, \"val\"),\n",
        "                                                     target_size=(150, 150), batch_size=32, class_mode='categorical')\n",
        "\n",
        "# Callbacks for early stopping and learning rate reduction\n",
        "early_stopping = EarlyStopping(monitor='val_loss', patience=5, restore_best_weights=True)\n",
        "reduce_lr = ReduceLROnPlateau(monitor='val_loss', factor=0.5, patience=3, min_lr=1e-6)\n",
        "\n",
        "# Train the model and save the history\n",
        "history = model.fit(train_generator, epochs=10, validation_data=val_generator,\n",
        "                    callbacks=[early_stopping, reduce_lr])  # Reduced learning rate if the validation loss plateaus\n",
        "\n",
        "# Save the training history\n",
        "history_save_path = '/content/drive/My Drive/models/custom_model_history.pkl'\n",
        "with open(history_save_path, 'wb') as file_pi:\n",
        "    pickle.dump(history.history, file_pi)\n",
        "\n",
        "# Save the custom model\n",
        "model_save_path = '/content/drive/My Drive/models/custom_vehicle_model.keras'\n",
        "model.save(model_save_path)\n",
        "\n",
        "print(f\"Custom model trained and saved to {model_save_path} successfully!\")"
      ]
    }
  ]
}